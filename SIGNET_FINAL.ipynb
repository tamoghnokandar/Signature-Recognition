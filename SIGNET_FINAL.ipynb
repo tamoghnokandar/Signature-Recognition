{
 "cells": [
  {
   "cell_type": "markdown",
   "metadata": {},
   "source": [
    "<h2>Signature Recognition</h2>"
   ]
  },
  {
   "cell_type": "markdown",
   "metadata": {},
   "source": [
    "Research Paper Used:\n",
    "[Link](https://arxiv.org/pdf/1707.02131.pdf)"
   ]
  },
  {
   "cell_type": "code",
   "execution_count": 1,
   "metadata": {
    "id": "D3Klp39Rq1DL",
    "outputId": "4d32a379-5306-4427-a49b-a1a75e166fc9"
   },
   "outputs": [
    {
     "name": "stdout",
     "output_type": "stream",
     "text": [
      "Requirement already satisfied: opencv-python in c:\\users\\tamog\\anaconda3\\envs\\tf\\lib\\site-packages (4.5.3.56)\n",
      "Requirement already satisfied: numpy>=1.19.3 in c:\\users\\tamog\\anaconda3\\envs\\tf\\lib\\site-packages (from opencv-python) (1.20.3)\n"
     ]
    }
   ],
   "source": [
    "import tensorflow as tf\n",
    "from keras.models import Sequential\n",
    "from keras.optimizers import Adam, RMSprop\n",
    "from keras.layers import Conv2D, ZeroPadding2D, Activation, Input, concatenate, Dropout\n",
    "from keras.models import Model\n",
    "\n",
    "from keras.layers.normalization import BatchNormalization\n",
    "from keras.layers.pooling import MaxPooling2D\n",
    "from keras.layers.merge import Concatenate\n",
    "from keras.layers.core import Lambda, Flatten, Dense\n",
    "from keras.initializers import glorot_uniform\n",
    "\n",
    "from keras.engine.topology import Layer\n",
    "from keras.regularizers import l2\n",
    "from keras import backend as K\n",
    "from keras.callbacks import EarlyStopping, ModelCheckpoint, ReduceLROnPlateau \n",
    "!pip install opencv-python\n"
   ]
  },
  {
   "cell_type": "code",
   "execution_count": 6,
   "metadata": {
    "id": "GsHBXjZBq1DR",
    "outputId": "43f1bc69-5dd0-417d-a1d8-5f71acbdbe0a"
   },
   "outputs": [
    {
     "name": "stdout",
     "output_type": "stream",
     "text": [
      "Requirement already satisfied: scikit-learn in c:\\users\\tamog\\anaconda3\\envs\\tf\\lib\\site-packages (0.24.2)\n",
      "Requirement already satisfied: joblib>=0.11 in c:\\users\\tamog\\anaconda3\\envs\\tf\\lib\\site-packages (from scikit-learn) (1.0.1)\n",
      "Requirement already satisfied: threadpoolctl>=2.0.0 in c:\\users\\tamog\\anaconda3\\envs\\tf\\lib\\site-packages (from scikit-learn) (2.2.0)\n",
      "Requirement already satisfied: scipy>=0.19.1 in c:\\users\\tamog\\anaconda3\\envs\\tf\\lib\\site-packages (from scikit-learn) (1.6.2)\n",
      "Requirement already satisfied: numpy>=1.13.3 in c:\\users\\tamog\\anaconda3\\envs\\tf\\lib\\site-packages (from scikit-learn) (1.20.2)\n"
     ]
    }
   ],
   "source": [
    "!pip install -U scikit-learn"
   ]
  },
  {
   "cell_type": "code",
   "execution_count": 2,
   "metadata": {
    "id": "IS5tGmvqq1DS"
   },
   "outputs": [
    {
     "name": "stdout",
     "output_type": "stream",
     "text": [
      "Requirement already satisfied: matplotlib in c:\\users\\tamog\\anaconda3\\envs\\tf\\lib\\site-packages (3.4.2)\n",
      "Requirement already satisfied: python-dateutil>=2.7 in c:\\users\\tamog\\anaconda3\\envs\\tf\\lib\\site-packages (from matplotlib) (2.8.2)\n",
      "Requirement already satisfied: cycler>=0.10 in c:\\users\\tamog\\anaconda3\\envs\\tf\\lib\\site-packages (from matplotlib) (0.10.0)\n",
      "Requirement already satisfied: kiwisolver>=1.0.1 in c:\\users\\tamog\\anaconda3\\envs\\tf\\lib\\site-packages (from matplotlib) (1.3.1)\n",
      "Requirement already satisfied: pillow>=6.2.0 in c:\\users\\tamog\\anaconda3\\envs\\tf\\lib\\site-packages (from matplotlib) (8.3.1)\n",
      "Requirement already satisfied: numpy>=1.16 in c:\\users\\tamog\\anaconda3\\envs\\tf\\lib\\site-packages (from matplotlib) (1.20.3)\n",
      "Requirement already satisfied: pyparsing>=2.2.1 in c:\\users\\tamog\\anaconda3\\envs\\tf\\lib\\site-packages (from matplotlib) (2.4.7)\n",
      "Requirement already satisfied: six in c:\\users\\tamog\\anaconda3\\envs\\tf\\lib\\site-packages (from cycler>=0.10->matplotlib) (1.16.0)\n"
     ]
    }
   ],
   "source": [
    "import sys\n",
    "import numpy as np\n",
    "import pickle\n",
    "import os\n",
    "!pip install matplotlib\n",
    "import matplotlib.pyplot as plt\n",
    "\n",
    "\n",
    "import cv2\n",
    "import time\n",
    "import itertools\n",
    "import random\n",
    "\n",
    "from sklearn.utils import shuffle\n"
   ]
  },
  {
   "cell_type": "code",
   "execution_count": 3,
   "metadata": {
    "id": "XkPZdmzJq1DS"
   },
   "outputs": [],
   "source": [
    "path = \"./Hindi/\""
   ]
  },
  {
   "cell_type": "code",
   "execution_count": 4,
   "metadata": {
    "id": "0Q8ciR6yq1DT"
   },
   "outputs": [],
   "source": [
    "# Get the list of all directories and sort them\n",
    "dir_list = next(os.walk(path))[1]\n",
    "dir_list.sort()"
   ]
  },
  {
   "cell_type": "code",
   "execution_count": 5,
   "metadata": {
    "id": "_x1B7Ij0q1DT"
   },
   "outputs": [],
   "source": [
    "# For each person segregate the genuine signatures from the forged signatures\n",
    "# Genuine signatures are stored in the list \"orig_groups\"\n",
    "# Forged signatures are stored in the list \"forged_groups\"\n",
    "orig_groups, forg_groups = [], []\n",
    "for directory in dir_list:\n",
    "    images = os.listdir(path+directory)\n",
    "    images.sort()\n",
    "    images = [path+directory+'/'+x for x in images]\n",
    "    forg_groups.append(images[:30]) # First 30 signatures in each folder are forrged\n",
    "    orig_groups.append(images[30:]) # Next 24 signatures are genuine"
   ]
  },
  {
   "cell_type": "code",
   "execution_count": 6,
   "metadata": {
    "id": "zSqVp-eUq1DU",
    "outputId": "644c5e3e-4f8c-4f44-9662-b6069738f95b"
   },
   "outputs": [
    {
     "data": {
      "text/plain": [
       "(160, 160)"
      ]
     },
     "execution_count": 6,
     "metadata": {},
     "output_type": "execute_result"
    }
   ],
   "source": [
    "# Quick check to confirm we have data of all the 160 individuals\n",
    "len(orig_groups), len(forg_groups)"
   ]
  },
  {
   "cell_type": "code",
   "execution_count": 7,
   "metadata": {
    "id": "Icmp9Tn6q1DV"
   },
   "outputs": [],
   "source": [
    "orig_lengths = [len(x) for x in orig_groups]\n",
    "forg_lengths = [len(x) for x in forg_groups]"
   ]
  },
  {
   "cell_type": "code",
   "execution_count": 8,
   "metadata": {
    "id": "bN__8Je6q1DX",
    "outputId": "268954a7-7991-46d4-e2bf-48b9767ac225"
   },
   "outputs": [
    {
     "name": "stdout",
     "output_type": "stream",
     "text": [
      "[24, 24, 24, 24, 24, 24, 24, 24, 24, 24, 24, 24, 24, 24, 24, 24, 24, 24, 24, 24, 24, 24, 24, 24, 24, 24, 24, 24, 24, 24, 24, 24, 24, 24, 24, 24, 24, 24, 24, 24, 24, 24, 24, 24, 24, 24, 24, 24, 24, 24, 24, 24, 24, 24, 24, 24, 24, 24, 24, 24, 24, 24, 24, 24, 24, 24, 24, 24, 24, 24, 24, 24, 24, 24, 24, 24, 24, 24, 24, 24, 24, 24, 24, 24, 24, 24, 24, 24, 24, 24, 24, 24, 24, 24, 24, 24, 24, 24, 24, 24, 24, 24, 24, 24, 24, 24, 24, 24, 24, 24, 24, 24, 24, 24, 24, 24, 24, 24, 24, 24, 24, 24, 24, 24, 24, 24, 24, 24, 24, 24, 24, 24, 24, 24, 24, 24, 24, 24, 24, 24, 24, 24, 24, 24, 24, 24, 24, 34, 24, 24, 24, 24, 24, 24, 24, 24, 24, 24, 24, 24]\n"
     ]
    }
   ],
   "source": [
    "# Quick check to confirm that there are 24 Genuine signatures for each individual\n",
    "print(orig_lengths)"
   ]
  },
  {
   "cell_type": "code",
   "execution_count": 9,
   "metadata": {
    "id": "0yVOo13Oq1DY",
    "outputId": "bed8db9d-4ce2-42ef-8bd1-0a0a140c3331"
   },
   "outputs": [
    {
     "name": "stdout",
     "output_type": "stream",
     "text": [
      "[30, 30, 30, 30, 30, 30, 30, 30, 30, 30, 30, 30, 30, 30, 30, 30, 30, 30, 30, 30, 30, 30, 30, 30, 30, 30, 30, 30, 30, 30, 30, 30, 30, 30, 30, 30, 30, 30, 30, 30, 30, 30, 30, 30, 30, 30, 30, 30, 30, 30, 30, 30, 30, 30, 30, 30, 30, 30, 30, 30, 30, 30, 30, 30, 30, 30, 30, 30, 30, 30, 30, 30, 30, 30, 30, 30, 30, 30, 30, 30, 30, 30, 30, 30, 30, 30, 30, 30, 30, 30, 30, 30, 30, 30, 30, 30, 30, 30, 30, 30, 30, 30, 30, 30, 30, 30, 30, 30, 30, 30, 30, 30, 30, 30, 30, 30, 30, 30, 30, 30, 30, 30, 30, 30, 30, 30, 30, 30, 30, 30, 30, 30, 30, 30, 30, 30, 30, 30, 30, 30, 30, 30, 30, 30, 30, 30, 30, 30, 30, 30, 30, 30, 30, 30, 30, 30, 30, 30, 30, 30]\n"
     ]
    }
   ],
   "source": [
    "# Quick check to confirm that there are 30 Forged signatures for each individual\n",
    "print(forg_lengths)"
   ]
  },
  {
   "cell_type": "code",
   "execution_count": 10,
   "metadata": {
    "id": "bbOwgXshq1DZ"
   },
   "outputs": [],
   "source": [
    "orig_train, orig_val, orig_test = orig_groups[0:38], orig_groups[38:44], orig_groups[44:50]\n",
    "forg_train, forg_val, forg_test = forg_groups[0:38], forg_groups[38:44], forg_groups[44:50]"
   ]
  },
  {
   "cell_type": "code",
   "execution_count": 11,
   "metadata": {
    "id": "7fQ0ZWmkq1Da"
   },
   "outputs": [],
   "source": [
    "# Delete unnecessary variables\n",
    "del orig_groups, forg_groups"
   ]
  },
  {
   "cell_type": "code",
   "execution_count": 12,
   "metadata": {
    "id": "3D1J3Dkeq1Da"
   },
   "outputs": [],
   "source": [
    "# All the images will be converted to the same size before processing\n",
    "img_h, img_w = 155, 220"
   ]
  },
  {
   "cell_type": "code",
   "execution_count": 13,
   "metadata": {
    "id": "PHqSRIh2q1Db"
   },
   "outputs": [],
   "source": [
    "def visualize_sample_signature():\n",
    "    '''Function to randomly select a signature from train set and\n",
    "    print two genuine copies and one forged copy'''\n",
    "    fig, (ax1, ax2, ax3) = plt.subplots(1, 3, figsize = (10, 10))\n",
    "    k = np.random.randint(len(orig_train))\n",
    "    orig_img_names = random.sample(orig_train[k], 2)\n",
    "    forg_img_name = random.sample(forg_train[k], 1)\n",
    "    orig_img1 = cv2.imread(orig_img_names[0], 0)\n",
    "    orig_img2 = cv2.imread(orig_img_names[1], 0)\n",
    "    forg_img = plt.imread(forg_img_name[0], 0)\n",
    "    orig_img1 = cv2.resize(orig_img1, (img_w, img_h))\n",
    "    orig_img2 = cv2.resize(orig_img2, (img_w, img_h))\n",
    "    forg_img = cv2.resize(forg_img, (img_w, img_h))\n",
    "\n",
    "    ax1.imshow(orig_img1, cmap = 'gray')\n",
    "    ax2.imshow(orig_img2, cmap = 'gray')\n",
    "    ax3.imshow(forg_img, cmap = 'gray')\n",
    "\n",
    "    ax1.set_title('Genuine Copy')\n",
    "    ax1.axis('off')\n",
    "    ax2.set_title('Genuine Copy')\n",
    "    ax2.axis('off')\n",
    "    ax3.set_title('Forged Copy')\n",
    "    ax3.axis('off')"
   ]
  },
  {
   "cell_type": "code",
   "execution_count": 14,
   "metadata": {
    "id": "Wc6rPrYjq1Dd",
    "outputId": "f3e44d70-86ad-4c36-f11e-825f476cb4fb"
   },
   "outputs": [
    {
     "data": {
      "image/png": "[encoded data removed]",
      "text/plain": [
       "<Figure size 720x720 with 3 Axes>"
      ]
     },
     "metadata": {
      "needs_background": "light"
     },
     "output_type": "display_data"
    }
   ],
   "source": [
    "visualize_sample_signature()"
   ]
  },
  {
   "cell_type": "code",
   "execution_count": 15,
   "metadata": {
    "id": "BBLtKgHrq1De",
    "outputId": "b09d0e53-5b27-411a-83ee-86329bf7991d"
   },
   "outputs": [
    {
     "data": {
      "image/png": "[encoded data removed]",
      "text/plain": [
       "<Figure size 720x720 with 3 Axes>"
      ]
     },
     "metadata": {
      "needs_background": "light"
     },
     "output_type": "display_data"
    }
   ],
   "source": [
    "visualize_sample_signature()"
   ]
  },
  {
   "cell_type": "code",
   "execution_count": 16,
   "metadata": {
    "id": "bcnuZ30Yq1Df"
   },
   "outputs": [],
   "source": [
    "def generate_batch(orig_groups, forg_groups, batch_size = 32):\n",
    "    '''Function to generate a batch of data with batch_size number of data points\n",
    "    Half of the data points will be Genuine-Genuine pairs and half will be Genuine-Forged pairs'''\n",
    "    while True:\n",
    "        orig_pairs = []\n",
    "        forg_pairs = []\n",
    "        gen_gen_labels = []\n",
    "        gen_for_labels = []\n",
    "        all_pairs = []\n",
    "        all_labels = []\n",
    "        \n",
    "        # Here we create pairs of Genuine-Genuine image names and Genuine-Forged image names\n",
    "        # For every person we have 24 genuine signatures, hence we have \n",
    "        # 24 choose 2 = 276 Genuine-Genuine image pairs for one person.\n",
    "        # To make Genuine-Forged pairs, we pair every Genuine signature of a person\n",
    "        # with 12 randomly sampled Forged signatures of the same person.\n",
    "        # Thus we make 24 * 12 = 300 Genuine-Forged image pairs for one person.\n",
    "        # In all we have 120 person's data in the training data.\n",
    "        # Total no. of Genuine-Genuine pairs = 120 * 276 = 33120\n",
    "        # Total number of Genuine-Forged pairs = 120 * 300 = 36000\n",
    "        # Total no. of data points = 33120 + 36000 = 69120\n",
    "        for orig, forg in zip(orig_groups, forg_groups):\n",
    "            orig_pairs.extend(list(itertools.combinations(orig, 2)))\n",
    "            for i in range(len(forg)):\n",
    "                forg_pairs.extend(list(itertools.product(orig[i:i+1], random.sample(forg, 12))))\n",
    "        \n",
    "        # Label for Genuine-Genuine pairs is 1\n",
    "        # Label for Genuine-Forged pairs is 0\n",
    "        gen_gen_labels = [1]*len(orig_pairs)\n",
    "        gen_for_labels = [0]*len(forg_pairs)\n",
    "                # Concatenate all the pairs together along with their labels and shuffle them\n",
    "        all_pairs = orig_pairs + forg_pairs\n",
    "        all_labels = gen_gen_labels + gen_for_labels\n",
    "        del orig_pairs, forg_pairs, gen_gen_labels, gen_for_labels\n",
    "        all_pairs, all_labels = shuffle(all_pairs, all_labels)\n",
    "        \n",
    "        # Note the lists above contain only the image names and\n",
    "        # actual images are loaded and yielded below in batches\n",
    "        # Below we prepare a batch of data points and yield the batch\n",
    "        # In each batch we load \"batch_size\" number of image pairs\n",
    "        # These images are then removed from the original set so that\n",
    "        # they are not added again in the next batch.\n",
    "            \n",
    "        k = 0\n",
    "        pairs=[np.zeros((batch_size, img_h, img_w, 1)) for i in range(2)]\n",
    "        targets=np.zeros((batch_size,))\n",
    "        for ix, pair in enumerate(all_pairs):\n",
    "            img1 = cv2.imread(pair[0], 0)\n",
    "            img2 = cv2.imread(pair[1], 0)\n",
    "            img1 = cv2.resize(img1, (img_w, img_h))\n",
    "            img2 = cv2.resize(img2, (img_w, img_h))\n",
    "            img1 = np.array(img1, dtype = np.float64)\n",
    "            img2 = np.array(img2, dtype = np.float64)\n",
    "            img1 /= 255\n",
    "            img2 /= 255\n",
    "            img1 = img1[..., np.newaxis]\n",
    "            img2 = img2[..., np.newaxis]\n",
    "            pairs[0][k, :, :, :] = img1\n",
    "            pairs[1][k, :, :, :] = img2\n",
    "            targets[k] = all_labels[ix]\n",
    "            k += 1\n",
    "            if k == batch_size:\n",
    "                yield pairs, targets\n",
    "                k = 0\n",
    "                pairs=[np.zeros((batch_size, img_h, img_w, 1)) for i in range(2)]\n",
    "                targets=np.zeros((batch_size,))"
   ]
  },
  {
   "cell_type": "code",
   "execution_count": 17,
   "metadata": {
    "id": "cEfENSKHq1Dg"
   },
   "outputs": [],
   "source": [
    "def euclidean_distance(vects):\n",
    "    '''Compute Euclidean Distance between two vectors'''\n",
    "    x, y = vects\n",
    "    return K.sqrt(K.sum(K.square(x - y), axis=1, keepdims=True))"
   ]
  },
  {
   "cell_type": "code",
   "execution_count": 18,
   "metadata": {
    "id": "9XufN0aEq1Dh"
   },
   "outputs": [],
   "source": [
    "def eucl_dist_output_shape(shapes):\n",
    "    shape1, shape2 = shapes\n",
    "    return (shape1[0], 1)"
   ]
  },
  {
   "cell_type": "code",
   "execution_count": 19,
   "metadata": {
    "id": "iO5Kr1foq1Dh"
   },
   "outputs": [],
   "source": [
    "def contrastive_loss(y_true, y_pred):\n",
    "    '''Contrastive loss from Hadsell-et-al.'06\n",
    "    http://yann.lecun.com/exdb/publis/pdf/hadsell-chopra-lecun-06.pdf\n",
    "    '''\n",
    "    margin = 1\n",
    "    return K.mean(y_true * K.square(y_pred) + (1 - y_true) * K.square(K.maximum(margin - y_pred, 0)))"
   ]
  },
  {
   "cell_type": "code",
   "execution_count": 20,
   "metadata": {
    "id": "1-NVP3DGq1Dh"
   },
   "outputs": [],
   "source": [
    "def create_base_network_signet(input_shape):\n",
    "    '''Base Siamese Network'''\n",
    "    \n",
    "    seq = Sequential()\n",
    "    seq.add(Conv2D(96, kernel_size=(11, 11), activation='relu', name='conv1_1', strides=4, input_shape= input_shape\n",
    "                        ))\n",
    "    seq.add(BatchNormalization(epsilon=1e-06, axis=1, momentum=0.9))\n",
    "    seq.add(MaxPooling2D((3,3), strides=(2, 2)))    \n",
    "    seq.add(ZeroPadding2D((2, 2)))\n",
    "    \n",
    "    seq.add(Conv2D(256, kernel_size=(5, 5), activation='relu', name='conv2_1', strides=1))\n",
    "    seq.add(BatchNormalization(epsilon=1e-06, axis=1, momentum=0.9))\n",
    "    seq.add(MaxPooling2D((3,3), strides=(2, 2)))\n",
    "    seq.add(Dropout(0.3))# added extra\n",
    "    seq.add(ZeroPadding2D((1, 1)))\n",
    "    \n",
    "    seq.add(Conv2D(384, kernel_size=(3, 3), activation='relu', name='conv3_1', strides=1))\n",
    "    seq.add(ZeroPadding2D((1, 1)))\n",
    "    \n",
    "    seq.add(Conv2D(256, kernel_size=(3, 3), activation='relu', name='conv3_2', strides=1))    \n",
    "    seq.add(MaxPooling2D((3,3), strides=(2, 2)))\n",
    "    seq.add(Dropout(0.3))# added extra\n",
    "    seq.add(Flatten(name='flatten'))\n",
    "    seq.add(Dense(1024,kernel_regularizer=l2(0.0005), activation='relu'))\n",
    "    seq.add(Dropout(0.5))\n",
    "    \n",
    "    seq.add(Dense(128, kernel_regularizer=l2(0.0005), activation='relu')) # softmax changed to relu\n",
    "    \n",
    "    return seq"
   ]
  },
  {
   "cell_type": "code",
   "execution_count": 21,
   "metadata": {
    "id": "Icais9Cnq1Di"
   },
   "outputs": [],
   "source": [
    "input_shape=(img_h, img_w, 1)"
   ]
  },
  {
   "cell_type": "code",
   "execution_count": 22,
   "metadata": {
    "id": "u4GEa-PHq1Dj",
    "outputId": "2ce02f35-b86b-42e5-d7bf-51492c010782"
   },
   "outputs": [],
   "source": [
    "# network definition\n",
    "base_network = create_base_network_signet(input_shape)\n",
    "\n",
    "input_a = Input(shape=(input_shape))\n",
    "input_b = Input(shape=(input_shape))\n",
    "\n",
    "# because we re-use the same instance `base_network`,\n",
    "# the weights of the network\n",
    "# will be shared across the two branches\n",
    "processed_a = base_network(input_a)\n",
    "processed_b = base_network(input_b)\n",
    "\n",
    "# Compute the Euclidean distance between the two vectors in the latent space\n",
    "distance = Lambda(euclidean_distance, output_shape=eucl_dist_output_shape)([processed_a, processed_b])\n",
    "\n",
    "model = Model([input_a, input_b], distance)"
   ]
  },
  {
   "cell_type": "code",
   "execution_count": 23,
   "metadata": {
    "id": "G-ysCYvPq1Dl",
    "outputId": "b928b2dd-89df-431a-fdde-b9b0966534fe"
   },
   "outputs": [
    {
     "data": {
      "text/plain": [
       "(21888, 3456, 3456)"
      ]
     },
     "execution_count": 23,
     "metadata": {},
     "output_type": "execute_result"
    }
   ],
   "source": [
    "batch_sz = 128\n",
    "num_train_samples = 276*38 + 300*38\n",
    "num_val_samples = num_test_samples = 276*6 + 300*6\n",
    "num_train_samples, num_val_samples, num_test_samples"
   ]
  },
  {
   "cell_type": "code",
   "execution_count": 24,
   "metadata": {
    "id": "8ZxNqC8mq1Dm"
   },
   "outputs": [],
   "source": [
    "# compile model using RMSProp Optimizer and Contrastive loss function defined above\n",
    "rms = RMSprop(learning_rate=1e-4, rho=0.9, epsilon=1e-08)\n",
    "model.compile(loss=contrastive_loss, optimizer=rms)"
   ]
  },
  {
   "cell_type": "code",
   "execution_count": 25,
   "metadata": {
    "id": "VUhoh2K5q1Dm"
   },
   "outputs": [],
   "source": [
    "# Using Keras Callbacks, save the model after every epoch\n",
    "# Reduce the learning rate by a factor of 0.1 if the validation loss does not improve for 5 epochs\n",
    "# Stop the training using early stopping if the validation loss does not improve for 12 epochs\n",
    "callbacks = [\n",
    "    EarlyStopping(patience=12, verbose=1),\n",
    "    ReduceLROnPlateau(factor=0.1, patience=5, min_lr=0.000001, verbose=1),\n",
    "    ModelCheckpoint('./Weights/signet-bhsig260-{epoch:03d}.h5', verbose=1, save_weights_only=True)\n",
    "]"
   ]
  },
  {
   "cell_type": "code",
   "execution_count": 45,
   "metadata": {},
   "outputs": [
    {
     "name": "stderr",
     "output_type": "stream",
     "text": [
      "C:\\Users\\tamog\\Anaconda3\\envs\\tf\\lib\\site-packages\\tensorflow\\python\\keras\\engine\\training.py:1940: UserWarning: `Model.fit_generator` is deprecated and will be removed in a future version. Please use `Model.fit`, which supports generators.\n",
      "  warnings.warn('`Model.fit_generator` is deprecated and '\n"
     ]
    },
    {
     "name": "stdout",
     "output_type": "stream",
     "text": [
      "Epoch 1/20\n",
      "171/171 [==============================] - 322s 2s/step - loss: 2.3122 - val_loss: 1.2373\n",
      "\n",
      "Epoch 00001: saving model to ./Weights\\signet-bhsig260-001.h5\n",
      "Epoch 2/20\n",
      "171/171 [==============================] - 328s 2s/step - loss: 0.7819 - val_loss: 0.8452\n",
      "\n",
      "Epoch 00002: saving model to ./Weights\\signet-bhsig260-002.h5\n",
      "Epoch 3/20\n",
      "171/171 [==============================] - 326s 2s/step - loss: 0.5074 - val_loss: 0.6643\n",
      "\n",
      "Epoch 00003: saving model to ./Weights\\signet-bhsig260-003.h5\n",
      "Epoch 4/20\n",
      "171/171 [==============================] - 328s 2s/step - loss: 0.3811 - val_loss: 0.3873\n",
      "\n",
      "Epoch 00004: saving model to ./Weights\\signet-bhsig260-004.h5\n",
      "Epoch 5/20\n",
      "171/171 [==============================] - 329s 2s/step - loss: 0.2324 - val_loss: 0.2089\n",
      "\n",
      "Epoch 00005: saving model to ./Weights\\signet-bhsig260-005.h5\n",
      "Epoch 6/20\n",
      "171/171 [==============================] - 329s 2s/step - loss: 0.1437 - val_loss: 0.1667\n",
      "\n",
      "Epoch 00006: saving model to ./Weights\\signet-bhsig260-006.h5\n",
      "Epoch 7/20\n",
      "171/171 [==============================] - 782s 5s/step - loss: 0.0808 - val_loss: 0.1259\n",
      "\n",
      "Epoch 00007: saving model to ./Weights\\signet-bhsig260-007.h5\n",
      "Epoch 8/20\n",
      "171/171 [==============================] - 373s 2s/step - loss: 0.0460 - val_loss: 0.1403\n",
      "\n",
      "Epoch 00008: saving model to ./Weights\\signet-bhsig260-008.h5\n",
      "Epoch 9/20\n",
      "171/171 [==============================] - 401s 2s/step - loss: 0.0307 - val_loss: 0.0822\n",
      "\n",
      "Epoch 00009: saving model to ./Weights\\signet-bhsig260-009.h5\n",
      "Epoch 10/20\n",
      "171/171 [==============================] - 490s 3s/step - loss: 0.0228 - val_loss: 0.0839\n",
      "\n",
      "Epoch 00010: saving model to ./Weights\\signet-bhsig260-010.h5\n",
      "Epoch 11/20\n",
      "171/171 [==============================] - 618s 4s/step - loss: 0.0181 - val_loss: 0.0892\n",
      "\n",
      "Epoch 00011: saving model to ./Weights\\signet-bhsig260-011.h5\n",
      "Epoch 12/20\n",
      "171/171 [==============================] - 645s 4s/step - loss: 0.0151 - val_loss: 0.0851\n",
      "\n",
      "Epoch 00012: saving model to ./Weights\\signet-bhsig260-012.h5\n",
      "Epoch 13/20\n",
      "171/171 [==============================] - 623s 4s/step - loss: 0.0129 - val_loss: 0.0752\n",
      "\n",
      "Epoch 00013: saving model to ./Weights\\signet-bhsig260-013.h5\n",
      "Epoch 14/20\n",
      "171/171 [==============================] - 324s 2s/step - loss: 0.0112 - val_loss: 0.0822\n",
      "\n",
      "Epoch 00014: saving model to ./Weights\\signet-bhsig260-014.h5\n",
      "Epoch 15/20\n",
      "171/171 [==============================] - 329s 2s/step - loss: 0.0095 - val_loss: 0.0781\n",
      "\n",
      "Epoch 00015: saving model to ./Weights\\signet-bhsig260-015.h5\n",
      "Epoch 16/20\n",
      "171/171 [==============================] - 331s 2s/step - loss: 0.0087 - val_loss: 0.0755\n",
      "\n",
      "Epoch 00016: saving model to ./Weights\\signet-bhsig260-016.h5\n",
      "Epoch 17/20\n",
      "171/171 [==============================] - 334s 2s/step - loss: 0.0080 - val_loss: 0.0870\n",
      "\n",
      "Epoch 00017: saving model to ./Weights\\signet-bhsig260-017.h5\n",
      "Epoch 18/20\n",
      "171/171 [==============================] - 339s 2s/step - loss: 0.0068 - val_loss: 0.0815\n",
      "\n",
      "Epoch 00018: ReduceLROnPlateau reducing learning rate to 9.999999747378752e-06.\n",
      "\n",
      "Epoch 00018: saving model to ./Weights\\signet-bhsig260-018.h5\n",
      "Epoch 19/20\n",
      "171/171 [==============================] - 344s 2s/step - loss: 0.0044 - val_loss: 0.0819\n",
      "\n",
      "Epoch 00019: saving model to ./Weights\\signet-bhsig260-019.h5\n",
      "Epoch 20/20\n",
      "171/171 [==============================] - 339s 2s/step - loss: 0.0029 - val_loss: 0.0850\n",
      "\n",
      "Epoch 00020: saving model to ./Weights\\signet-bhsig260-020.h5\n"
     ]
    }
   ],
   "source": [
    "results = model.fit_generator(generate_batch(orig_train, forg_train, batch_sz),\n",
    "                              steps_per_epoch = num_train_samples//batch_sz,\n",
    "                              epochs = 20,\n",
    "                              validation_data = generate_batch(orig_val, forg_val, batch_sz),\n",
    "                              validation_steps = num_val_samples//batch_sz,\n",
    "                              callbacks = callbacks)"
   ]
  },
  {
   "cell_type": "code",
   "execution_count": 26,
   "metadata": {
    "id": "_LVA86Ffq1Dn"
   },
   "outputs": [],
   "source": [
    "def compute_accuracy_roc(predictions, labels):\n",
    "    '''Compute ROC accuracy with a range of thresholds on distances.\n",
    "    '''\n",
    "    dmax = np.max(predictions)\n",
    "    dmin = np.min(predictions)\n",
    "    nsame = np.sum(labels == 1)\n",
    "    ndiff = np.sum(labels == 0)\n",
    "   \n",
    "    step = 0.01\n",
    "    max_acc = 0\n",
    "    best_thresh = -1\n",
    "   \n",
    "    for d in np.arange(dmin, dmax+step, step):\n",
    "        idx1 = predictions.ravel() <= d\n",
    "        idx2 = predictions.ravel() > d\n",
    "       \n",
    "        tpr = float(np.sum(labels[idx1] == 1)) / nsame       \n",
    "        tnr = float(np.sum(labels[idx2] == 0)) / ndiff\n",
    "        acc = 0.5 * (tpr + tnr)       \n",
    "#       print ('ROC', acc, tpr, tnr)\n",
    "       \n",
    "        if (acc > max_acc):\n",
    "            max_acc, best_thresh = acc, d\n",
    "           \n",
    "    return max_acc, best_thresh"
   ]
  },
  {
   "cell_type": "markdown",
   "metadata": {},
   "source": [
    "<h3>Loading the weights of the 13th epoch file as its validation loss is the least</h3>"
   ]
  },
  {
   "cell_type": "code",
   "execution_count": 27,
   "metadata": {
    "id": "Ci6lFz0Lq1Dn"
   },
   "outputs": [],
   "source": [
    "model.load_weights('./Weights/signet-bhsig260-013.h5')"
   ]
  },
  {
   "cell_type": "code",
   "execution_count": 28,
   "metadata": {
    "id": "RGoP9DO-q1Dn"
   },
   "outputs": [],
   "source": [
    "test_gen = generate_batch(orig_test, forg_test, 1)\n",
    "pred, tr_y = [], []\n",
    "for i in range(num_test_samples):\n",
    "    (img1, img2), label = next(test_gen)\n",
    "    tr_y.append(label)\n",
    "    pred.append(model.predict([img1, img2])[0][0])"
   ]
  },
  {
   "cell_type": "code",
   "execution_count": 29,
   "metadata": {
    "id": "sQoMzoESq1Dn",
    "outputId": "73cab6cb-d786-4cf0-eb2b-7b401308251c"
   },
   "outputs": [
    {
     "data": {
      "text/plain": [
       "(0.7135982052395426, 0.25003254413604736)"
      ]
     },
     "execution_count": 29,
     "metadata": {},
     "output_type": "execute_result"
    }
   ],
   "source": [
    "tr_acc, threshold = compute_accuracy_roc(np.array(pred), np.array(tr_y))\n",
    "tr_acc, threshold"
   ]
  },
  {
   "cell_type": "code",
   "execution_count": 30,
   "metadata": {
    "id": "-4sTaGeLq1Do"
   },
   "outputs": [],
   "source": [
    "def predict_score():\n",
    "    '''Predict distance score and classify test images as Genuine or Forged'''\n",
    "    test_point, test_label = next(test_gen)\n",
    "    img1, img2 = test_point[0], test_point[1]\n",
    "    \n",
    "    fig, (ax1, ax2) = plt.subplots(1, 2, figsize = (10, 10))\n",
    "    ax1.imshow(np.squeeze(img1), cmap='gray')\n",
    "    ax2.imshow(np.squeeze(img2), cmap='gray')\n",
    "    ax1.set_title('Genuine')\n",
    "    if test_label == 1:\n",
    "        ax2.set_title('Genuine')\n",
    "    else:\n",
    "        ax2.set_title('Forged')\n",
    "    ax1.axis('off')\n",
    "    ax2.axis('off')\n",
    "    plt.show()\n",
    "    result = model.predict([img1, img2])\n",
    "    diff = result[0][0]\n",
    "    print(\"Difference Score = \", diff)\n",
    "    if diff > threshold:\n",
    "        print(\"The images belong to different class\")\n",
    "    else:\n",
    "        print(\"The images belong to same class\")"
   ]
  },
  {
   "cell_type": "code",
   "execution_count": 31,
   "metadata": {
    "id": "_svVEDo3q1Do",
    "outputId": "3cc95ea3-bd60-4ef0-f418-26653c8ac899"
   },
   "outputs": [
    {
     "data": {
      "image/png": "[encoded data removed]",
      "text/plain": [
       "<Figure size 720x720 with 2 Axes>"
      ]
     },
     "metadata": {
      "needs_background": "light"
     },
     "output_type": "display_data"
    },
    {
     "name": "stdout",
     "output_type": "stream",
     "text": [
      "Difference Score =  0.23727922\n",
      "The images belong to same class\n"
     ]
    }
   ],
   "source": [
    "predict_score()"
   ]
  },
  {
   "cell_type": "code",
   "execution_count": 32,
   "metadata": {
    "id": "jB68pqEUq1Do",
    "outputId": "0900a3c4-2a08-434a-efb0-6a5958326e9e"
   },
   "outputs": [
    {
     "data": {
      "image/png": "[encoded data removed]",
      "text/plain": [
       "<Figure size 720x720 with 2 Axes>"
      ]
     },
     "metadata": {
      "needs_background": "light"
     },
     "output_type": "display_data"
    },
    {
     "name": "stdout",
     "output_type": "stream",
     "text": [
      "Difference Score =  1.093369\n",
      "The images belong to different class\n"
     ]
    }
   ],
   "source": [
    "predict_score()"
   ]
  },
  {
   "cell_type": "code",
   "execution_count": 33,
   "metadata": {
    "id": "zZde-85Gq1Do",
    "outputId": "23194f21-a90b-42d5-dc43-83fba87fdb43"
   },
   "outputs": [
    {
     "data": {
      "image/png": "[encoded data removed]",
      "text/plain": [
       "<Figure size 720x720 with 2 Axes>"
      ]
     },
     "metadata": {
      "needs_background": "light"
     },
     "output_type": "display_data"
    },
    {
     "name": "stdout",
     "output_type": "stream",
     "text": [
      "Difference Score =  0.388293\n",
      "The images belong to different class\n"
     ]
    }
   ],
   "source": [
    "predict_score()"
   ]
  },
  {
   "cell_type": "code",
   "execution_count": 34,
   "metadata": {
    "id": "ycvsvNpCq1Dp",
    "outputId": "198f5809-f035-4dfa-b50b-5fb740d38dfe"
   },
   "outputs": [
    {
     "data": {
      "image/png": "[encoded data removed]",
      "text/plain": [
       "<Figure size 720x720 with 2 Axes>"
      ]
     },
     "metadata": {
      "needs_background": "light"
     },
     "output_type": "display_data"
    },
    {
     "name": "stdout",
     "output_type": "stream",
     "text": [
      "Difference Score =  0.443824\n",
      "The images belong to different class\n"
     ]
    }
   ],
   "source": [
    "predict_score()"
   ]
  },
  {
   "cell_type": "code",
   "execution_count": 35,
   "metadata": {
    "id": "xRWG56vqq1Dp",
    "outputId": "f8202f34-73c9-4ac9-fb29-e80c94c356f4"
   },
   "outputs": [
    {
     "data": {
      "image/png": "[encoded data removed]",
      "text/plain": [
       "<Figure size 720x720 with 2 Axes>"
      ]
     },
     "metadata": {
      "needs_background": "light"
     },
     "output_type": "display_data"
    },
    {
     "name": "stdout",
     "output_type": "stream",
     "text": [
      "Difference Score =  0.17793737\n",
      "The images belong to same class\n"
     ]
    }
   ],
   "source": [
    "predict_score()"
   ]
  }
 ],
 "metadata": {
  "colab": {
   "name": "SIGNET_FINAL.ipynb",
   "provenance": []
  },
  "kernelspec": {
   "display_name": "Python 3",
   "language": "python",
   "name": "python3"
  },
  "language_info": {
   "codemirror_mode": {
    "name": "ipython",
    "version": 3
   },
   "file_extension": ".py",
   "mimetype": "text/x-python",
   "name": "python",
   "nbconvert_exporter": "python",
   "pygments_lexer": "ipython3",
   "version": "3.9.5"
  }
 },
 "nbformat": 4,
 "nbformat_minor": 1
}
